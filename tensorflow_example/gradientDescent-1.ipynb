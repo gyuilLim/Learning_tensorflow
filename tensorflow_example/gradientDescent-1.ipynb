{
 "cells": [
  {
   "cell_type": "code",
   "execution_count": 7,
   "metadata": {},
   "outputs": [],
   "source": [
    "import numpy as np\n",
    "import tensorflow as tf"
   ]
  },
  {
   "cell_type": "code",
   "execution_count": 4,
   "metadata": {},
   "outputs": [
    {
     "name": "stdout",
     "output_type": "stream",
     "text": [
      "-3.000 |   74.66667\n",
      "-2.429 |   54.85714\n",
      "-1.857 |   38.09524\n",
      "-1.286 |   24.38095\n",
      "-0.714 |   13.71429\n",
      "-0.143 |    6.09524\n",
      " 0.429 |    1.52381\n",
      " 1.000 |    0.00000\n",
      " 1.571 |    1.52381\n",
      " 2.143 |    6.09524\n",
      " 2.714 |   13.71429\n",
      " 3.286 |   24.38095\n",
      " 3.857 |   38.09524\n",
      " 4.429 |   54.85714\n",
      " 5.000 |   74.66667\n"
     ]
    }
   ],
   "source": [
    "X = np.array([1,2,3])\n",
    "Y = np.array([1, 2, 3])\n",
    "\n",
    "def cost_func(W, X, Y):\n",
    "    c = 0\n",
    "    for i in range(len(X)):\n",
    "        c += (W * X[i] - Y[i]) ** 2\n",
    "    return c / len(X)\n",
    "\n",
    "W_values = np.linspace(-3, 5, num=15)\n",
    "cost_values = []\n",
    "\n",
    "for feed_W in W_values:\n",
    "    curr_cost = cost_func(feed_W, X, Y)\n",
    "    cost_values.append(curr_cost)\n",
    "    print(\"{:6.3f} | {:10.5f}\".format(feed_W, curr_cost))"
   ]
  },
  {
   "cell_type": "code",
   "execution_count": 22,
   "metadata": {},
   "outputs": [
    {
     "name": "stdout",
     "output_type": "stream",
     "text": [
      "    0 | 20032.4414 | -26.397148 | -19.402716\n",
      "   10 |    12.6007 |   3.400263 |  -6.975994\n",
      "   20 |     3.2342 |   3.441088 |  -5.270894\n",
      "   30 |     1.7598 |   3.070802 |  -4.148909\n",
      "   40 |     0.9581 |   2.790268 |  -3.323495\n",
      "   50 |     0.5217 |   2.583132 |  -2.714478\n",
      "   60 |     0.2841 |   2.430286 |  -2.265093\n",
      "   70 |     0.1547 |   2.317503 |  -1.933496\n",
      "   80 |     0.0842 |   2.234281 |  -1.688816\n",
      "   90 |     0.0458 |   2.172873 |  -1.508269\n",
      "  100 |     0.0250 |   2.127561 |  -1.375045\n",
      "  110 |     0.0136 |   2.094126 |  -1.276741\n",
      "  120 |     0.0074 |   2.069454 |  -1.204204\n",
      "  130 |     0.0040 |   2.051250 |  -1.150679\n",
      "  140 |     0.0022 |   2.037816 |  -1.111185\n",
      "  150 |     0.0012 |   2.027904 |  -1.082042\n",
      "  160 |     0.0007 |   2.020590 |  -1.060538\n",
      "  170 |     0.0004 |   2.015193 |  -1.044670\n",
      "  180 |     0.0002 |   2.011211 |  -1.032961\n",
      "  190 |     0.0001 |   2.008272 |  -1.024322\n",
      "  200 |     0.0001 |   2.006104 |  -1.017947\n",
      "  210 |     0.0000 |   2.004504 |  -1.013243\n",
      "  220 |     0.0000 |   2.003324 |  -1.009771\n",
      "  230 |     0.0000 |   2.002452 |  -1.007210\n",
      "  240 |     0.0000 |   2.001810 |  -1.005320\n",
      "  250 |     0.0000 |   2.001335 |  -1.003926\n",
      "  260 |     0.0000 |   2.000985 |  -1.002897\n",
      "  270 |     0.0000 |   2.000727 |  -1.002138\n",
      "  280 |     0.0000 |   2.000537 |  -1.001577\n",
      "  290 |     0.0000 |   2.000396 |  -1.001164\n"
     ]
    }
   ],
   "source": [
    "tf.random.set_seed(0)\n",
    "\n",
    "x_data = [1., 2., 3., 4.]\n",
    "y_data = [1., 3., 5., 7.]\n",
    "\n",
    "W = tf.Variable(tf.random.normal([1],-100, 100))\n",
    "b = tf.Variable(tf.random.normal([1], -100, 100))\n",
    "\n",
    "for step in range(300):\n",
    "    with tf.GradientTape() as Tape:\n",
    "        hypothesis = W * x_data + b\n",
    "        cost = tf.reduce_mean(tf.square(hypothesis - y_data))\n",
    "    \n",
    "    alpha = 0.1\n",
    "    W_grad, b_grad = Tape.gradient(cost, [W,b])\n",
    "    #gradient = tf.reduce_mean(tf.multiply(tf.multiply(W, x_data) - y_data, x_data))\n",
    "    #descent = W - tf.multiply(alpha, gradient)\n",
    "    W.assign_sub(alpha * W_grad)\n",
    "    b.assign_sub(alpha * b_grad)\n",
    "    \n",
    "    if step % 10 == 0:\n",
    "        print('{:5} | {:10.4f} | {:10.6f} | {:10.6f}'.format(step, cost.numpy(), W.numpy()[0], b.numpy()[0]))"
   ]
  },
  {
   "cell_type": "code",
   "execution_count": null,
   "metadata": {},
   "outputs": [],
   "source": []
  }
 ],
 "metadata": {
  "kernelspec": {
   "display_name": "Python 3",
   "language": "python",
   "name": "python3"
  },
  "language_info": {
   "codemirror_mode": {
    "name": "ipython",
    "version": 3
   },
   "file_extension": ".py",
   "mimetype": "text/x-python",
   "name": "python",
   "nbconvert_exporter": "python",
   "pygments_lexer": "ipython3",
   "version": "3.7.7"
  }
 },
 "nbformat": 4,
 "nbformat_minor": 4
}
